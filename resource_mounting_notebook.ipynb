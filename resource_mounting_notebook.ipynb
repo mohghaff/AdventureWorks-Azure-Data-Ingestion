{
 "cells": [
  {
   "cell_type": "code",
   "execution_count": 0,
   "metadata": {
    "application/vnd.databricks.v1+cell": {
     "cellMetadata": {
      "byteLimit": 2048000,
      "rowLimit": 10000
     },
     "inputWidgets": {},
     "nuid": "616d4465-82d6-4a7c-ba85-0fb389728030",
     "showTitle": false,
     "title": ""
    }
   },
   "outputs": [
    {
     "output_type": "stream",
     "name": "stdout",
     "output_type": "stream",
     "text": [
      "Out[1]: True"
     ]
    }
   ],
   "source": [
    "configs = {\n",
    "  \"fs.azure.account.auth.type\": \"CustomAccessToken\",\n",
    "  \"fs.azure.account.custom.token.provider.class\": spark.conf.get(\"spark.databricks.passthrough.adls.gen2.tokenProviderClassName\")\n",
    "}\n",
    "\n",
    "# Optionally, you can add <directory-name> to the source URI of your mount point.\n",
    "dbutils.fs.mount(\n",
    "  source = \"abfss://sourcefiles@adventureadlsg2.dfs.core.windows.net/\",\n",
    "  mount_point = \"/mnt/sourcefiles\",\n",
    "  extra_configs = configs)"
   ]
  },
  {
   "cell_type": "code",
   "execution_count": 0,
   "metadata": {
    "application/vnd.databricks.v1+cell": {
     "cellMetadata": {
      "byteLimit": 2048000,
      "rowLimit": 10000
     },
     "inputWidgets": {},
     "nuid": "396dcf7c-0513-452d-a4dc-29054ecdeb80",
     "showTitle": false,
     "title": ""
    }
   },
   "outputs": [
    {
     "output_type": "stream",
     "name": "stdout",
     "output_type": "stream",
     "text": [
      "Out[2]: [FileInfo(path='dbfs:/mnt/sourcefiles/SalesLT/', name='SalesLT/', size=0, modificationTime=1694356595000)]"
     ]
    }
   ],
   "source": [
    "dbutils.fs.ls(\"/mnt/sourcefiles\")"
   ]
  },
  {
   "cell_type": "code",
   "execution_count": 0,
   "metadata": {
    "application/vnd.databricks.v1+cell": {
     "cellMetadata": {
      "byteLimit": 2048000,
      "rowLimit": 10000
     },
     "inputWidgets": {},
     "nuid": "1a20e8ef-69d7-4ff2-90ae-1f176f93918b",
     "showTitle": false,
     "title": ""
    }
   },
   "outputs": [
    {
     "output_type": "stream",
     "name": "stdout",
     "output_type": "stream",
     "text": [
      "Out[3]: [FileInfo(path='dbfs:/mnt/sourcefiles/SalesLT/Address/', name='Address/', size=0, modificationTime=1694356597000),\n FileInfo(path='dbfs:/mnt/sourcefiles/SalesLT/Customer/', name='Customer/', size=0, modificationTime=1694356596000),\n FileInfo(path='dbfs:/mnt/sourcefiles/SalesLT/CustomerAddress/', name='CustomerAddress/', size=0, modificationTime=1694356597000),\n FileInfo(path='dbfs:/mnt/sourcefiles/SalesLT/Product/', name='Product/', size=0, modificationTime=1694356598000),\n FileInfo(path='dbfs:/mnt/sourcefiles/SalesLT/ProductCategory/', name='ProductCategory/', size=0, modificationTime=1694356600000),\n FileInfo(path='dbfs:/mnt/sourcefiles/SalesLT/ProductDescription/', name='ProductDescription/', size=0, modificationTime=1694356600000),\n FileInfo(path='dbfs:/mnt/sourcefiles/SalesLT/ProductModel/', name='ProductModel/', size=0, modificationTime=1694356597000),\n FileInfo(path='dbfs:/mnt/sourcefiles/SalesLT/ProductModelProductDescription/', name='ProductModelProductDescription/', size=0, modificationTime=1694356596000),\n FileInfo(path='dbfs:/mnt/sourcefiles/SalesLT/SalesOrderDetail/', name='SalesOrderDetail/', size=0, modificationTime=1694356595000),\n FileInfo(path='dbfs:/mnt/sourcefiles/SalesLT/SalesOrderHeader/', name='SalesOrderHeader/', size=0, modificationTime=1694356599000)]"
     ]
    }
   ],
   "source": [
    "dbutils.fs.ls(\"/mnt/sourcefiles/SalesLT/\")"
   ]
  },
  {
   "cell_type": "code",
   "execution_count": 0,
   "metadata": {
    "application/vnd.databricks.v1+cell": {
     "cellMetadata": {
      "byteLimit": 2048000,
      "rowLimit": 10000
     },
     "inputWidgets": {},
     "nuid": "e3351343-cc6d-4245-a104-74513c17dd9e",
     "showTitle": false,
     "title": ""
    }
   },
   "outputs": [
    {
     "output_type": "stream",
     "name": "stdout",
     "output_type": "stream",
     "text": [
      "Out[4]: True"
     ]
    }
   ],
   "source": [
    "configs = {\n",
    "  \"fs.azure.account.auth.type\": \"CustomAccessToken\",\n",
    "  \"fs.azure.account.custom.token.provider.class\": spark.conf.get(\"spark.databricks.passthrough.adls.gen2.tokenProviderClassName\")\n",
    "}\n",
    "\n",
    "# Optionally, you can add <directory-name> to the source URI of your mount point.\n",
    "dbutils.fs.mount(\n",
    "  source = \"abfss://silver@adventureadlsg2.dfs.core.windows.net/\",\n",
    "  mount_point = \"/mnt/silver\",\n",
    "  extra_configs = configs)"
   ]
  },
  {
   "cell_type": "code",
   "execution_count": 0,
   "metadata": {
    "application/vnd.databricks.v1+cell": {
     "cellMetadata": {
      "byteLimit": 2048000,
      "rowLimit": 10000
     },
     "inputWidgets": {},
     "nuid": "c613c93b-a1c3-4cc6-929c-22e9529dfff7",
     "showTitle": false,
     "title": ""
    }
   },
   "outputs": [
    {
     "output_type": "stream",
     "name": "stdout",
     "output_type": "stream",
     "text": [
      "Out[5]: True"
     ]
    }
   ],
   "source": [
    "configs = {\n",
    "  \"fs.azure.account.auth.type\": \"CustomAccessToken\",\n",
    "  \"fs.azure.account.custom.token.provider.class\": spark.conf.get(\"spark.databricks.passthrough.adls.gen2.tokenProviderClassName\")\n",
    "}\n",
    "\n",
    "# Optionally, you can add <directory-name> to the source URI of your mount point.\n",
    "dbutils.fs.mount(\n",
    "  source = \"abfss://gold@adventureadlsg2.dfs.core.windows.net/\",\n",
    "  mount_point = \"/mnt/gold\",\n",
    "  extra_configs = configs)"
   ]
  },
  {
   "cell_type": "code",
   "execution_count": 0,
   "metadata": {
    "application/vnd.databricks.v1+cell": {
     "cellMetadata": {},
     "inputWidgets": {},
     "nuid": "75cef6e7-70a7-4974-bbed-5b0ec42025b1",
     "showTitle": false,
     "title": ""
    }
   },
   "outputs": [],
   "source": []
  }
 ],
 "metadata": {
  "application/vnd.databricks.v1+notebook": {
   "dashboards": [],
   "language": "python",
   "notebookMetadata": {
    "pythonIndentUnit": 4
   },
   "notebookName": "resource_mounting_notebook",
   "widgets": {}
  }
 },
 "nbformat": 4,
 "nbformat_minor": 0
}
